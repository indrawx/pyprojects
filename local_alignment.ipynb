{
  "nbformat": 4,
  "nbformat_minor": 0,
  "metadata": {
    "colab": {
      "name": "cviceni_7_student.ipynb",
      "provenance": [],
      "collapsed_sections": []
    },
    "kernelspec": {
      "name": "python3",
      "display_name": "Python 3"
    }
  },
  "cells": [
    {
      "cell_type": "markdown",
      "metadata": {
        "id": "-PRisH6H3EGt"
      },
      "source": [
        "# **7. cvičení - Lokální zarovnání (25.3.2021)**"
      ]
    },
    {
      "cell_type": "markdown",
      "metadata": {
        "id": "aFPdwI9Vxnch"
      },
      "source": [
        "## Zarovnávání sekvencí\n",
        "\n",
        "* vstup: 2 sekvence, skórovací systém\n",
        "* výstup: uspořádání co nejdelšího úseku 2 sekvencí, jehož skóre je maximální pro daný skórovací systém\n",
        "* Smith-Waterman algoritmus\n"
      ]
    },
    {
      "cell_type": "markdown",
      "metadata": {
        "id": "KsFahv7Kz5mS"
      },
      "source": [
        "**Úkol č. 1:** <br>\n",
        "a) Co potřebujeme, pokud chceme zarovnávat sekvence pomocí lokálního zarovnání? Co je výsledkem zarovnání?<br>\n",
        "b) Jaké sekvence je vhodné zarovnávat lokálně?<br>\n",
        "c) Jak se vyplňuje první sloupec/řádek u matice S?<br>\n",
        "d) Kde v matici S začíná zpětná cesta a kde končí? <br>\n",
        "e) Jak se liší lokální zarovnání od globálního zarovnání?\n",
        "\n",
        "**Odpověď:**\n",
        "<br/>a) Potřebujeme dvě sekvence a skórovací systém. Výsledkem bude zarovnání nejvice si podobných úseků.<br>\n",
        "b) Sekvence, které jsou si podobné jenom v určítých úsecích.<br>\n",
        "c) Vyplňuje se nulami.<br>\n",
        "d) Zpětná cesta se začíná od největší hodnoty v matici až po první nulu.<br>\n",
        "e) Výsledkem globálního zarovnání jsou dvě celé zarovnáné sekvence, víceméně u lokálního zarovnání můžeme zarovnávat jenom nejvíce podobné úseky."
      ]
    },
    {
      "cell_type": "markdown",
      "metadata": {
        "id": "ORt2DZ5OyaBB"
      },
      "source": [
        "## Smith-Waterman algoritmus\n",
        "* vhodné pro sekence podobné si pouze v určitém úseku\n",
        "* rozdíly oproti Needleman-Wunsch algoritmu:\n",
        "  * inicializace 1. řádku a sloupce pouze hodnotami 0\n",
        "  * nahrazení záporného maxima hodnotou 0\n",
        "  * zpětná cesta začíná od maximální hodnoty v matici ohodnocení\n",
        "  * zpětná cesta končí v prvku s 0\n",
        "\n",
        "\n",
        "\n",
        "\n",
        "\n"
      ]
    },
    {
      "cell_type": "markdown",
      "metadata": {
        "id": "54QUnBIUywoB"
      },
      "source": [
        "* sekvence *A* má délku *i* a sekvence *B* má délku *n*\n",
        "* matice ohodnocení *S* má velikost *m* + 1, *n* + 1\n",
        "* první řádek a sloupec matice *S* obsahuje 0\n",
        "* aktuální prvek *S* na pozici [i, j] je počítán z předcházejících hodnot:\n",
        "  * prvek z řádku [i-1, j]\n",
        "  * prvek ze sloupce [i, j-1]\n",
        "  * prvek diagonální [i-1, j-1]\n",
        "* vybíráme maximum z okolních prvků a z 0  \n"
      ]
    },
    {
      "cell_type": "markdown",
      "metadata": {
        "id": "ssp6RYZhBH7Z"
      },
      "source": [
        "<img src=\"https://drive.google.com/uc?export=view&id=1DZ5LMwc-UfkDJbej0LuNv4kQ0prHTp-n\" width=\"500\">"
      ]
    },
    {
      "cell_type": "markdown",
      "metadata": {
        "id": "inX1BerUDc5l"
      },
      "source": [
        "### Příklad:\n",
        "* sekvence: GATAC, GTA\n",
        "* skórovací systém: match = 2, mismatch = 1, gap = -1\n",
        "* vyplňujeme matici *S*\n",
        "* zarovnání je určeno zpětnou cestou\n",
        "* zpětná cesta začíná od maximálního prvku matice *S* a končí v prvku s 0\n",
        "* následujeme šipky\n",
        "* zarovnání:\n",
        "\n",
        "<img src=\"https://drive.google.com/uc?export=view&id=17ZBTB93rf_Jf_ZplU3UISmdyTQZMXM7w\" width=\"300\">"
      ]
    },
    {
      "cell_type": "markdown",
      "metadata": {
        "id": "WqmHdu0JELRY"
      },
      "source": [
        "<img src=\"https://drive.google.com/uc?export=view&id=\n",
        "1aGOIp8B_b8D50JGUYCjUwtgTyA2h16ud\" width=\"400\">"
      ]
    },
    {
      "cell_type": "markdown",
      "metadata": {
        "id": "06vJZ8hCyQ6F"
      },
      "source": [
        "**Úkol č. 2:** <br>\n",
        "Seznamte se s afinními mezerami – co jsou to afinní mezery, jaké matice se u afinních mezer počítají, jak funguje zpětná cesta. Využijte slidy z přednášky, dostupnou literaturu či výuková videa na youtube.\n",
        "\n",
        "**Odpověď:**\n",
        "<br/>Afinní mezery jsou navazující se na sebe mezery.\n",
        "Musíme navíc spočítat matici delece (D) a matici inzerce (I).\n",
        "Zpětná cesta se začíná v pravém dolním rohu a končí se v levém horním. Cesta se pokračuje podle toho z jaké matice bylo výbráno maximum."
      ]
    },
    {
      "cell_type": "markdown",
      "metadata": {
        "id": "MsGjwJYUyaX4"
      },
      "source": [
        "**Úkol č. 3:** <br>\n",
        "Vytvořte vlastní funkci pro výpočet lokálního zarovnání 2 nukleotidových sekvencí. Vstupem funkce budou 2 nukleotidové sekvence a skórovací systém, výstupem funkce bude matice ohodnocení a zarovnané sekvence.\n"
      ]
    },
    {
      "cell_type": "code",
      "metadata": {
        "colab": {
          "base_uri": "https://localhost:8080/"
        },
        "id": "vJWz7TeABOju",
        "outputId": "4639a007-3d1b-48ac-eb05-4de917445582"
      },
      "source": [
        "pip install biopython"
      ],
      "execution_count": null,
      "outputs": [
        {
          "output_type": "stream",
          "text": [
            "Collecting biopython\n",
            "\u001b[?25l  Downloading https://files.pythonhosted.org/packages/3a/cd/0098eaff841850c01da928c7f509b72fd3e1f51d77b772e24de9e2312471/biopython-1.78-cp37-cp37m-manylinux1_x86_64.whl (2.3MB)\n",
            "\u001b[K     |████████████████████████████████| 2.3MB 15.1MB/s \n",
            "\u001b[?25hRequirement already satisfied: numpy in /usr/local/lib/python3.7/dist-packages (from biopython) (1.19.5)\n",
            "Installing collected packages: biopython\n",
            "Successfully installed biopython-1.78\n"
          ],
          "name": "stdout"
        }
      ]
    },
    {
      "cell_type": "code",
      "metadata": {
        "id": "LtqRrzH4ndrp",
        "colab": {
          "base_uri": "https://localhost:8080/"
        },
        "outputId": "a700e3e3-ca4e-408d-ddb8-6b432ddec107"
      },
      "source": [
        "import numpy as np\n",
        "from Bio import Seq\n",
        "from Bio import SeqIO\n",
        "from Bio import SeqRecord\n",
        "from Bio import pairwise2\n",
        "from Bio.pairwise2 import format_alignment\n",
        "\n",
        "\n",
        "def lokalni_zarovnani (seq1, seq2, skore):\n",
        "\n",
        "  m = len(seq1)\n",
        "  n = len(seq2)\n",
        "\n",
        "  # vytvoříme nulovou matici ohodnocení S o rozměrech m+1, n+1\n",
        "  S = np.zeros((m+1, n+1), dtype=int)\n",
        "  # pomocí cyklů procházíme matici a vyplňujeme ji\n",
        "  for i in range(1, m+1):\n",
        "    for j in range(1,n+1):\n",
        "      if seq1[i-1] == seq2[j-1]:\n",
        "        S[i][j] = max(0, (S[i-1][j] + skore[2]), (S[i][j-1] + skore[2]), (S[i-1][j-1] + skore[0]))\n",
        "      else:\n",
        "        S[i][j] = max(0, (S[i-1][j] + skore[2]), (S[i][j-1] + skore[2]), (S[i-1][j-1] + skore[1]))\n",
        "\n",
        "\n",
        "  # zobrazíme si matici ohodnocení S\n",
        "  print('Matice ohodnocení S je:')\n",
        "  print(S)\n",
        "\n",
        "  ## tvorba zpětné cesty\n",
        "\n",
        "  # nalezení maximální hodnoty v matici S\n",
        "  maxi = 0\n",
        "  maxj = 0\n",
        "  value = 0\n",
        "\n",
        "  for i in range(1, m+1): \n",
        "    for j in range(1, n+1):\n",
        "      if S[i][j] > value:\n",
        "        maxi = i\n",
        "        maxj = j\n",
        "        value = S[i][j]\n",
        "  # vytvoříme si prázdné proměnné, do kterých budeme ukládat zarovnání\n",
        "  alignseq1 = ''\n",
        "  alignseq2 = ''\n",
        "  i = maxi\n",
        "  j = maxj\n",
        "  # vytvoříme si cyklus pro zpětný pohyb v matici a který bude ukončen, pokud na pozicích řádek, sloupec je 0\n",
        "  while True:\n",
        "    \n",
        "    if S[i][j] == 0:\n",
        "      break\n",
        "\n",
        "      # pokud jsou shodné znaky, budeme počítat s hodnotou match\n",
        "      if seq1[i-1] == seq2[j-1]:\n",
        "        m = skore[0]\n",
        "      # pokud jsou rozdílné znaky, budeme počítat s hodnotou mismatch\n",
        "      else:\n",
        "        m = skore[1]\n",
        "      # najdeme, kde je v okolí daného prvku, na kterém se nacházíme, maximální hodnota\n",
        "      maximum = max((S[i-1][j] + skore[2]), (S[i][j-1] + skore[2]), (S[i-1][j-1] + m))\n",
        "\n",
        "      # pokud bylo maximum na diagonále, posuneme se doleva a nahoru a uložíme příslušné znaky do zarovnání\n",
        "      if maximum == (S[i-1][j-1] + m):\n",
        "        alignseq1 = seq2[j-1] + alignseq1\n",
        "        alignseq2 = seq1[i-1] + alignseq2\n",
        "        i -=1\n",
        "        j -=1\n",
        "        continue\n",
        "\n",
        "      # pokud bylo maximum nahoře, posuneme se nahoru a uložíme příslušný znak a pomlčku do zarovnání\n",
        "      if maximum == (S[i-1][j] + skore[2]):\n",
        "        alignseq1 = '-' + alignseq1\n",
        "        alignseq2 = seq1[i-1] + alignseq2\n",
        "        i -=1\n",
        "        continue\n",
        "\n",
        "      # pokud bylo maximum vlevo, posuneme se doleva a uložíme příslušný znak a pomlčku do zarovnání\n",
        "      if maximum == (S[i][j-1] + skore[2]):\n",
        "        alignseq1 = seq2[j-1] + alignseq1\n",
        "        alignseq2 = '-' + alignseq2\n",
        "        j -=1\n",
        "        continue\n",
        "  # zobrazení zarovnání\n",
        "  print('\\nZarovnáni je:')\n",
        "  print(alignseq1)\n",
        "  print(alignseq2)\n",
        "# volání funkce\n",
        "lokalni_zarovnani(\"AGC\", \"AATGC\", [2, -1, -2])"
      ],
      "execution_count": null,
      "outputs": [
        {
          "output_type": "stream",
          "text": [
            "Matice ohodnocení S je:\n",
            "[[0 0 0 0 0 0]\n",
            " [0 2 2 0 0 0]\n",
            " [0 0 1 1 2 0]\n",
            " [0 0 0 0 0 4]]\n"
          ],
          "name": "stdout"
        }
      ]
    },
    {
      "cell_type": "markdown",
      "metadata": {
        "id": "qtlxhAuLYaKO"
      },
      "source": [
        "**Vstup:** <br>\n",
        "(\"AGC\", \"AATGC\", 2, -1, -2) <br>\n",
        "\n",
        "**Výstup:**<br>\n",
        "Matice ohodnocení S je: </br>  [[0. 0. 0. 0. 0. 0.]<br>\n",
        " [0. 2. 2. 0. 0. 0.]<br>\n",
        " [0. 0. 1. 1. 2. 0.]<br>\n",
        " [0. 0. 0. 0. 0. 4.]]<br>\n",
        "\n",
        "Zarovnání je:  \n",
        "GC </br>\n",
        "GC"
      ]
    }
  ]
}