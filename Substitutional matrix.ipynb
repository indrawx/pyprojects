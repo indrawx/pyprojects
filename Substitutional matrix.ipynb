{
  "nbformat": 4,
  "nbformat_minor": 0,
  "metadata": {
    "colab": {
      "name": "cviceni_4_221520.ipynb",
      "provenance": [],
      "collapsed_sections": []
    },
    "kernelspec": {
      "name": "python3",
      "display_name": "Python 3"
    }
  },
  "cells": [
    {
      "cell_type": "markdown",
      "metadata": {
        "id": "-PRisH6H3EGt"
      },
      "source": [
        "# **4. cvičení - Substituční matice (4.3.2021)**"
      ]
    },
    {
      "cell_type": "markdown",
      "metadata": {
        "id": "ORt2DZ5OyaBB"
      },
      "source": [
        "- slouží jako model substitucí - některé NT/AK se mění v jiné často, jiné substituce jsou vzácné → různé změny mají různou pravděpodobnost\n",
        "- vyjadřuje míru substitucí mezi nukleotidy nebo aminokyselinami\n",
        "- substituce v DNA\n",
        "  - tranzice x transverze\n",
        "  - synonymní x nesynonymní\n",
        "\n",
        "- substituce AMK\n",
        "  - nejčastěji substituce za strukturálně podobnou AMK\n",
        "  \n",
        "- slouží k ohodnocení zarovnání, což je nalezení podobností mezi sekvencemi\n"
      ]
    },
    {
      "cell_type": "markdown",
      "metadata": {
        "id": "54QUnBIUywoB"
      },
      "source": [
        "## Substituční matice pro NT - velikost 4x4\n",
        "\n",
        "### Matice identity\n",
        "- nukleotidy nejsou schopné zmutovat do jiného nukleotidu\n",
        "\n",
        "\n",
        "\n"
      ]
    },
    {
      "cell_type": "markdown",
      "metadata": {
        "id": "b9J4ZsLg4FZT"
      },
      "source": [
        "<img src=\"https://drive.google.com/uc?export=view&id=1oQad3N-MO5jbZ5a9Dy7MJYm_I2YAsbEz\">\n",
        "\n"
      ]
    },
    {
      "cell_type": "markdown",
      "metadata": {
        "id": "tT1PUFlS5bdu"
      },
      "source": [
        "### NUC44\n",
        "- shoda nukleotidů = 5\n",
        "- substituce = -4\n",
        "\n"
      ]
    },
    {
      "cell_type": "markdown",
      "metadata": {
        "id": "wPa0GSSs5dzn"
      },
      "source": [
        "<img src=\"https://drive.google.com/uc?export=view&id=13lpmfaVc4cI_nVZhwhNwQQ57uBI-EiM7\">"
      ]
    },
    {
      "cell_type": "markdown",
      "metadata": {
        "id": "CASl6qv612Sn"
      },
      "source": [
        "## Substituční matice pro AMK - velikost 20x20\n",
        "\n",
        "### PAM (Point Accepted Mutation)\n",
        "- PAM1 - za daný čas dojde v sekvenci ke změně 1 % AK \n",
        "- 1 pozice může zmutovat vícekrát\n",
        "- hodnota v matici - pravděpodobnostní míra substituce AK na jinou AK\n",
        "  - čím vyšší hodnota, tím vyšší míra substituce\n",
        "  - kde jsou nejvyšší hodnoty?\n",
        "- PAM s vysokým číslem pro méně podobné sekvence (evolučně vzdálené) a naopak\n",
        "\n",
        "### BLOSUM (BLOck SUbstitution Matrix)\n",
        "- číslo matice udává podobnost bloků zarovnaných sekvencí\n",
        "- BLOSUM s vysokým číslem pro blízké sekvence (evolučně příbuzné) a naopak\n",
        "- sestavení matice: <br>\n",
        "  1) popis a sestavení bloku - W, S, N <br>\n",
        "  2) příprava komponent pro sestavení matice - f<sub>i,j</sub>, q<sub>i,j</sub>, p<sub>i</sub><br>\n",
        "  3) vlastní konstrukce matice - b<sub>i,j</sub>, B<sub>i,j</sub>\n"
      ]
    },
    {
      "cell_type": "markdown",
      "metadata": {
        "id": "7_qGvoP13j8C"
      },
      "source": [
        "**Úkol č. 1:** <br>\n",
        "a) Popište, co je to substituce.<br>\n",
        "b) Na jaké typy se substituce DNA dělí? Každý typ vysvětlete.\n",
        "\n",
        "**Odpověď:**\n",
        "\n",
        "a) Substituce je změna nukleotidu/aminokyseliny na jiný nukleotid/aminokyselinu.\n",
        "\n",
        "b) Tranzice - změna nukleotidu purinový-purinový nebo pyrimidinový-pyrimidinový. Transverze - změna nukleotidu purinový-pyrimidinový. Synonymní - vytvoří kodon, který kóduje stejnou aminokyselinu jako původní kodon. Nesynonymní - vytvoří kodon, který kóduje jinou aminokyselinu než původní kodon."
      ]
    },
    {
      "cell_type": "markdown",
      "metadata": {
        "id": "jUN-h7nc4qUW"
      },
      "source": [
        "**Úkol č. 2:** <br>\n",
        "a) Popište, k čemu slouží matice PAM.<br>\n",
        "b) Vysvětlete zkratku PAM1.\n",
        "\n",
        "**Odpověď:**\n",
        "\n",
        "a) První používaná substituční matice pro porovnávání proteinů.\n",
        "\n",
        "b) Za daný čas dojde v sekvenci ke změně 1 % AK."
      ]
    },
    {
      "cell_type": "markdown",
      "metadata": {
        "id": "YAW5D-Fw6cZX"
      },
      "source": [
        "**Úkol č. 3:** <br>\n",
        "Vytvořte funkci, který spočítá matici BLOSUM pro zadaný set sekvencí.<br>\n",
        "Vstup: zarovnané sekvence<br>\n",
        "Výstup: matice BLOSUM"
      ]
    },
    {
      "cell_type": "code",
      "metadata": {
        "id": "efBIbFwz6J3M",
        "colab": {
          "base_uri": "https://localhost:8080/"
        },
        "outputId": "ec274357-28f3-4687-f919-7c5a5860a100"
      },
      "source": [
        "pip install biopython"
      ],
      "execution_count": null,
      "outputs": [
        {
          "output_type": "stream",
          "text": [
            "Requirement already satisfied: biopython in /usr/local/lib/python3.7/dist-packages (1.78)\n",
            "Requirement already satisfied: numpy in /usr/local/lib/python3.7/dist-packages (from biopython) (1.19.5)\n"
          ],
          "name": "stdout"
        }
      ]
    },
    {
      "cell_type": "code",
      "metadata": {
        "id": "KcvJPB9NoqaY",
        "colab": {
          "base_uri": "https://localhost:8080/"
        },
        "outputId": "01171fc8-7764-4d6f-abec-df6dd95c9cf1"
      },
      "source": [
        "import numpy\n",
        "import math\n",
        "\n",
        "def blosum(blok):\n",
        "  S = len(blok)\n",
        "  W = len(blok[0])\n",
        "  N = (S*(S-1)/2)*W\n",
        "\n",
        "  s = ''.join(blok)\n",
        "  znaky = sorted(set(s))\n",
        "\n",
        "  D = len(znaky) \n",
        "  blok_list = []\n",
        "  f = numpy.zeros(shape=(D, D), dtype=float)\n",
        "\n",
        "  for j in range(S):\n",
        "    pom = (list(blok[j]))\n",
        "    blok_list.append(pom)\n",
        "  \n",
        "  rozd_pary = []\n",
        "\n",
        "  for i in reversed(range(1, D+1)):\n",
        "    zero = []\n",
        "    for k in range(i):\n",
        "      zero += [0]\n",
        "    rozd_pary.append(zero)  \n",
        "\n",
        "  for pos in range(len(blok_list[0])):\n",
        "    for str1 in range(len(blok_list)):\n",
        "      for str2 in range(str1+1, len(blok_list)):\n",
        "        ch1 = blok_list[str1][pos]\n",
        "        ch2 = blok_list[str2][pos]\n",
        "        if ch1 == ch2:\n",
        "          index_min = znaky.index(ch1)\n",
        "          rozd_pary[index_min][0] += 1\n",
        "        elif ch1 < ch2:\n",
        "          index_min = znaky.index(ch1)\n",
        "          index_max = znaky.index(ch2)\n",
        "          rozd_pary[index_min][index_max - index_min] += 1\n",
        "\n",
        "        elif ch1 > ch2:\n",
        "          index_min = znaky.index(ch2)\n",
        "          index_max = znaky.index(ch1)\n",
        "          rozd_pary[index_min][index_max - index_min] +=1\n",
        "\n",
        "  i = 0\n",
        "  for st in range(len(rozd_pary)):\n",
        "    for col in range(len(rozd_pary[st])):\n",
        "      f[st][col+i] += rozd_pary[st][col] \n",
        "    i += 1\n",
        "\n",
        "  for st in range(D):\n",
        "    for col in range(D):\n",
        "      if st > col:\n",
        "        f[st][col] = f[col][st]\n",
        "  print('Četnosti znaků jsou \\n', f)\n",
        "\n",
        "  norm_f = numpy.zeros((D, D), dtype=float)\n",
        "  for st in range(D):\n",
        "    for col in range(D):\n",
        "      norm_f[st][col] = f[st][col] / N\n",
        "  print('Normovaná matice četnosti znaků je \\n', norm_f)\n",
        "\n",
        "  marg_f = numpy.zeros(D, dtype=float)\n",
        "   \n",
        "  for i in range(D):\n",
        "    marg_f[i] = sum(norm_f[i])/2 + norm_f[i][i]/2\n",
        "\n",
        "  print('Marginální součty jsou: \\n', marg_f)\n",
        "\n",
        "  b = numpy.zeros((D, D), dtype=float)\n",
        "  for st in range(D):\n",
        "    for col in range(D):\n",
        "      if st != col:\n",
        "        b[st][col] += norm_f[st][col] / (2*marg_f[st]*marg_f[col])\n",
        "      else:\n",
        "        b[st][col] += norm_f[col][col] / marg_f[col]**2\n",
        "\n",
        "  blos = numpy.zeros((D, D), dtype=float)\n",
        "  for st in range(D):\n",
        "    for col in range(D):\n",
        "      blos[st][col] = round(3 * math.log2(b[st][col]))\n",
        "  print('BLOSUM matice je: \\n',blos)\n",
        "\n",
        "vstup = ['CAABAB', 'BBABCB', 'AAABCB']\n",
        "blosum(vstup)"
      ],
      "execution_count": null,
      "outputs": [
        {
          "output_type": "stream",
          "text": [
            "Četnosti znaků jsou \n",
            " [[4. 3. 3.]\n",
            " [3. 6. 1.]\n",
            " [3. 1. 1.]]\n",
            "Normovaná matice četnosti znaků je \n",
            " [[0.22222222 0.16666667 0.16666667]\n",
            " [0.16666667 0.33333333 0.05555556]\n",
            " [0.16666667 0.05555556 0.05555556]]\n",
            "Marginální součty jsou: \n",
            " [0.38888889 0.44444444 0.16666667]\n",
            "BLOSUM matice je: \n",
            " [[ 2. -3.  1.]\n",
            " [-3.  2. -4.]\n",
            " [ 1. -4.  3.]]\n"
          ],
          "name": "stdout"
        }
      ]
    },
    {
      "cell_type": "markdown",
      "metadata": {
        "id": "PHL2MAWuSKWg"
      },
      "source": [
        "VSTUP: ['CAABAB', 'BBABCB', 'AAABCB']\n",
        "\n",
        "VÝSTUP: </br>\n",
        "Četnosti znaků jsou  [[4. 3. 3.]</br>\n",
        "[3. 6. 1.]</br>\n",
        " [3. 1. 1.]]</br>\n",
        "Normovaná matice četnosti znaků je  [[0.22222222 0.16666667 0.16666667]</br>\n",
        " [0.16666667 0.33333333 0.05555556]</br>\n",
        " [0.16666667 0.05555556 0.05555556]]</br>\n",
        "Marginální součty jsou:  [0.38888889 0.44444444 0.16666667]</br>\n",
        "BLOSUM matice je:  [[ 2. -3.  1.]</br>\n",
        " [-3.  2. -4.]</br>\n",
        " [ 1. -4.  3.]]</br>"
      ]
    }
  ]
}