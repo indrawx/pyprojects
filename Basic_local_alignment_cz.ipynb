{
  "nbformat": 4,
  "nbformat_minor": 0,
  "metadata": {
    "colab": {
      "name": "cviceni_8_221520.ipynb",
      "provenance": [],
      "collapsed_sections": []
    },
    "kernelspec": {
      "name": "python3",
      "display_name": "Python 3"
    }
  },
  "cells": [
    {
      "cell_type": "markdown",
      "metadata": {
        "id": "-PRisH6H3EGt"
      },
      "source": [
        "# **8. cvičení - BLAST a vícenásobné zarovnání (1.4.2021)**"
      ]
    },
    {
      "cell_type": "markdown",
      "metadata": {
        "id": "aFPdwI9Vxnch"
      },
      "source": [
        "## BLAST (Basic Local Alignment Search Tool)\n",
        "\n",
        "* program pro vyhledávání homologních sekvencí v databázích\n",
        "* kombinace heuristiky a lokálního zarovnání\n",
        "* typy: blastn, blastp, blastx, tblastn\n",
        "* https://blast.ncbi.nlm.nih.gov\n",
        "* BLAST tutoriál: https://digitalworldbiology.com/blast \n",
        "\n",
        "<img src=\"https://drive.google.com/uc?export=view&id=1vVZdPrYtWB3nUtemOecMBLr5ytFxeoJy\">\n"
      ]
    },
    {
      "cell_type": "markdown",
      "metadata": {
        "id": "_3tPRtI86jJV"
      },
      "source": [
        "## Vícenásobné zarovnání\n",
        "\n",
        "* zarovnání 3 a více sekvencí\n",
        "* nalezení optimálního zarovnání pomocí DP\n",
        "* výpočetně náročné\n",
        "* skórovací systém pro nalezení optimálního zarovnání\n",
        "  * metoda sumy párů"
      ]
    },
    {
      "cell_type": "markdown",
      "metadata": {
        "id": "TEbe4YF76-5A"
      },
      "source": [
        "## Metoda CLUSTAL\n",
        "\n",
        "* progresivní metoda pro zarovnání více sekvencí\n",
        "* zarovnání nejvíce podobných párů - přidávají se méně podobné sekvence k počátečnímu zarovnání\n",
        "* verze: CLUSTAL Omega, CLUSTALW, CLUSTALX"
      ]
    },
    {
      "cell_type": "markdown",
      "metadata": {
        "id": "CA4UxcI27Zx8"
      },
      "source": [
        "###**Úkol č. 1:** <br>\n",
        "Najděte v NCBI Gene databázi gen COX2 pro kočku domácí (*Felis catus*) ve FASTA formátu. </br>\n",
        "\n",
        "**I. Nukleotidy** </br>\n",
        "a)\n",
        "* Stáhněte kódující sekvenci ve formátu FASTA Nucleotide\n",
        "* Otevřete si webový nástroj [BLAST](https://blast.ncbi.nlm.nih.gov)\n",
        "* Použijte Nucleotide BLAST (blastn)\n",
        "* Nahrajte sekvenci (sekvenci je možné nahrát jako FASTA soubor nebo také zkopírovat); ostatní parametry nechte ve výchozím nastavení a spusťte BLAST. \n",
        "* Stáhněte si homologní sekvence např. pro *Felis catus*, *Felis margarita*, *Lynx rufus*, *Felis silvestris* a *Prionailurus planiceps*.\n",
        "\n",
        "b) </br>\n",
        "* Spusťte BLAST přímo z NCBI.\n",
        "\n",
        "**II. Proteiny** </br>\n",
        "Stejný postup jako v I. opakujte pro proteinové sekvence: </br>\n",
        "a) \n",
        "* Stáhněte kódující sekvenci ve formátu FASTA Protein\n",
        "* Otevřete si webový nástroj [BLAST](https://blast.ncbi.nlm.nih.gov)\n",
        "* Použijte Protein BLAST (blastp)\n",
        "* Nahrajte sekvenci (sekvenci je možné nahrát jako FASTA soubor nebo také zkopírovat); ostatní parametry nechte ve výchozím nastavení a spusťte BLAST. \n",
        "* Stáhněte si homologní sekvence např. pro *Felis catus*, *Felis margarita*, *Lynx rufus*, *Rangifer tarandus* a *Prionailurus planiceps*.\n",
        "\n",
        "**Odpověď:** <br>\n",
        "Odevzdejte všechny stažené soubory (gen COX2 kočky domácí, nukleotidové homologní sekvence, proteinové homologní sekvence). Popište rozdíly:\n",
        "1) při spouštení BLASTu pomocí staženého souboru a přímo z NCBI,\n",
        "2) výsledky z blastn a blastp.\n",
        "\n",
        "1) Při spuštění BLASTu přímo z NCBI je potřebné zadat i parametry from-to daného génu.\n",
        "2) Výsledkem blastn jsou nukleotidové sekvence, zatímco výsledkem blastp proteinové sekvence."
      ]
    },
    {
      "cell_type": "markdown",
      "metadata": {
        "id": "yc4rSMMR052M"
      },
      "source": [
        "### **Úkol č. 2:** <br>\n",
        "Vytvořte funkci pro zarovnání stažených nukleotidových a proteinových sekvencí genu COX2 pro 5 organismů pomocí vícenásobného zarovnání. Zarovnání poté zobrazte."
      ]
    },
    {
      "cell_type": "code",
      "metadata": {
        "id": "cn8KK-Pm877d",
        "colab": {
          "base_uri": "https://localhost:8080/"
        },
        "outputId": "e9cb3860-56dc-489c-80bd-e1e4acad808a"
      },
      "source": [
        "pip install biopython"
      ],
      "execution_count": null,
      "outputs": [
        {
          "output_type": "stream",
          "text": [
            "Collecting biopython\n",
            "\u001b[?25l  Downloading https://files.pythonhosted.org/packages/3a/cd/0098eaff841850c01da928c7f509b72fd3e1f51d77b772e24de9e2312471/biopython-1.78-cp37-cp37m-manylinux1_x86_64.whl (2.3MB)\n",
            "\r\u001b[K     |▏                               | 10kB 11.8MB/s eta 0:00:01\r\u001b[K     |▎                               | 20kB 17.0MB/s eta 0:00:01\r\u001b[K     |▍                               | 30kB 20.7MB/s eta 0:00:01\r\u001b[K     |▋                               | 40kB 23.4MB/s eta 0:00:01\r\u001b[K     |▊                               | 51kB 26.2MB/s eta 0:00:01\r\u001b[K     |▉                               | 61kB 22.5MB/s eta 0:00:01\r\u001b[K     |█                               | 71kB 22.4MB/s eta 0:00:01\r\u001b[K     |█▏                              | 81kB 17.4MB/s eta 0:00:01\r\u001b[K     |█▎                              | 92kB 18.4MB/s eta 0:00:01\r\u001b[K     |█▌                              | 102kB 17.7MB/s eta 0:00:01\r\u001b[K     |█▋                              | 112kB 17.7MB/s eta 0:00:01\r\u001b[K     |█▊                              | 122kB 17.7MB/s eta 0:00:01\r\u001b[K     |██                              | 133kB 17.7MB/s eta 0:00:01\r\u001b[K     |██                              | 143kB 17.7MB/s eta 0:00:01\r\u001b[K     |██▏                             | 153kB 17.7MB/s eta 0:00:01\r\u001b[K     |██▎                             | 163kB 17.7MB/s eta 0:00:01\r\u001b[K     |██▌                             | 174kB 17.7MB/s eta 0:00:01\r\u001b[K     |██▋                             | 184kB 17.7MB/s eta 0:00:01\r\u001b[K     |██▊                             | 194kB 17.7MB/s eta 0:00:01\r\u001b[K     |███                             | 204kB 17.7MB/s eta 0:00:01\r\u001b[K     |███                             | 215kB 17.7MB/s eta 0:00:01\r\u001b[K     |███▏                            | 225kB 17.7MB/s eta 0:00:01\r\u001b[K     |███▍                            | 235kB 17.7MB/s eta 0:00:01\r\u001b[K     |███▌                            | 245kB 17.7MB/s eta 0:00:01\r\u001b[K     |███▋                            | 256kB 17.7MB/s eta 0:00:01\r\u001b[K     |███▉                            | 266kB 17.7MB/s eta 0:00:01\r\u001b[K     |████                            | 276kB 17.7MB/s eta 0:00:01\r\u001b[K     |████                            | 286kB 17.7MB/s eta 0:00:01\r\u001b[K     |████▏                           | 296kB 17.7MB/s eta 0:00:01\r\u001b[K     |████▍                           | 307kB 17.7MB/s eta 0:00:01\r\u001b[K     |████▌                           | 317kB 17.7MB/s eta 0:00:01\r\u001b[K     |████▋                           | 327kB 17.7MB/s eta 0:00:01\r\u001b[K     |████▉                           | 337kB 17.7MB/s eta 0:00:01\r\u001b[K     |█████                           | 348kB 17.7MB/s eta 0:00:01\r\u001b[K     |█████                           | 358kB 17.7MB/s eta 0:00:01\r\u001b[K     |█████▎                          | 368kB 17.7MB/s eta 0:00:01\r\u001b[K     |█████▍                          | 378kB 17.7MB/s eta 0:00:01\r\u001b[K     |█████▌                          | 389kB 17.7MB/s eta 0:00:01\r\u001b[K     |█████▊                          | 399kB 17.7MB/s eta 0:00:01\r\u001b[K     |█████▉                          | 409kB 17.7MB/s eta 0:00:01\r\u001b[K     |██████                          | 419kB 17.7MB/s eta 0:00:01\r\u001b[K     |██████                          | 430kB 17.7MB/s eta 0:00:01\r\u001b[K     |██████▎                         | 440kB 17.7MB/s eta 0:00:01\r\u001b[K     |██████▍                         | 450kB 17.7MB/s eta 0:00:01\r\u001b[K     |██████▌                         | 460kB 17.7MB/s eta 0:00:01\r\u001b[K     |██████▊                         | 471kB 17.7MB/s eta 0:00:01\r\u001b[K     |██████▉                         | 481kB 17.7MB/s eta 0:00:01\r\u001b[K     |███████                         | 491kB 17.7MB/s eta 0:00:01\r\u001b[K     |███████▏                        | 501kB 17.7MB/s eta 0:00:01\r\u001b[K     |███████▎                        | 512kB 17.7MB/s eta 0:00:01\r\u001b[K     |███████▍                        | 522kB 17.7MB/s eta 0:00:01\r\u001b[K     |███████▋                        | 532kB 17.7MB/s eta 0:00:01\r\u001b[K     |███████▊                        | 542kB 17.7MB/s eta 0:00:01\r\u001b[K     |███████▉                        | 552kB 17.7MB/s eta 0:00:01\r\u001b[K     |████████                        | 563kB 17.7MB/s eta 0:00:01\r\u001b[K     |████████▏                       | 573kB 17.7MB/s eta 0:00:01\r\u001b[K     |████████▎                       | 583kB 17.7MB/s eta 0:00:01\r\u001b[K     |████████▍                       | 593kB 17.7MB/s eta 0:00:01\r\u001b[K     |████████▋                       | 604kB 17.7MB/s eta 0:00:01\r\u001b[K     |████████▊                       | 614kB 17.7MB/s eta 0:00:01\r\u001b[K     |████████▉                       | 624kB 17.7MB/s eta 0:00:01\r\u001b[K     |█████████                       | 634kB 17.7MB/s eta 0:00:01\r\u001b[K     |█████████▏                      | 645kB 17.7MB/s eta 0:00:01\r\u001b[K     |█████████▎                      | 655kB 17.7MB/s eta 0:00:01\r\u001b[K     |█████████▌                      | 665kB 17.7MB/s eta 0:00:01\r\u001b[K     |█████████▋                      | 675kB 17.7MB/s eta 0:00:01\r\u001b[K     |█████████▊                      | 686kB 17.7MB/s eta 0:00:01\r\u001b[K     |█████████▉                      | 696kB 17.7MB/s eta 0:00:01\r\u001b[K     |██████████                      | 706kB 17.7MB/s eta 0:00:01\r\u001b[K     |██████████▏                     | 716kB 17.7MB/s eta 0:00:01\r\u001b[K     |██████████▎                     | 727kB 17.7MB/s eta 0:00:01\r\u001b[K     |██████████▌                     | 737kB 17.7MB/s eta 0:00:01\r\u001b[K     |██████████▋                     | 747kB 17.7MB/s eta 0:00:01\r\u001b[K     |██████████▊                     | 757kB 17.7MB/s eta 0:00:01\r\u001b[K     |███████████                     | 768kB 17.7MB/s eta 0:00:01\r\u001b[K     |███████████                     | 778kB 17.7MB/s eta 0:00:01\r\u001b[K     |███████████▏                    | 788kB 17.7MB/s eta 0:00:01\r\u001b[K     |███████████▍                    | 798kB 17.7MB/s eta 0:00:01\r\u001b[K     |███████████▌                    | 808kB 17.7MB/s eta 0:00:01\r\u001b[K     |███████████▋                    | 819kB 17.7MB/s eta 0:00:01\r\u001b[K     |███████████▉                    | 829kB 17.7MB/s eta 0:00:01\r\u001b[K     |████████████                    | 839kB 17.7MB/s eta 0:00:01\r\u001b[K     |████████████                    | 849kB 17.7MB/s eta 0:00:01\r\u001b[K     |████████████▏                   | 860kB 17.7MB/s eta 0:00:01\r\u001b[K     |████████████▍                   | 870kB 17.7MB/s eta 0:00:01\r\u001b[K     |████████████▌                   | 880kB 17.7MB/s eta 0:00:01\r\u001b[K     |████████████▋                   | 890kB 17.7MB/s eta 0:00:01\r\u001b[K     |████████████▉                   | 901kB 17.7MB/s eta 0:00:01\r\u001b[K     |█████████████                   | 911kB 17.7MB/s eta 0:00:01\r\u001b[K     |█████████████                   | 921kB 17.7MB/s eta 0:00:01\r\u001b[K     |█████████████▎                  | 931kB 17.7MB/s eta 0:00:01\r\u001b[K     |█████████████▍                  | 942kB 17.7MB/s eta 0:00:01\r\u001b[K     |█████████████▌                  | 952kB 17.7MB/s eta 0:00:01\r\u001b[K     |█████████████▊                  | 962kB 17.7MB/s eta 0:00:01\r\u001b[K     |█████████████▉                  | 972kB 17.7MB/s eta 0:00:01\r\u001b[K     |██████████████                  | 983kB 17.7MB/s eta 0:00:01\r\u001b[K     |██████████████                  | 993kB 17.7MB/s eta 0:00:01\r\u001b[K     |██████████████▎                 | 1.0MB 17.7MB/s eta 0:00:01\r\u001b[K     |██████████████▍                 | 1.0MB 17.7MB/s eta 0:00:01\r\u001b[K     |██████████████▌                 | 1.0MB 17.7MB/s eta 0:00:01\r\u001b[K     |██████████████▊                 | 1.0MB 17.7MB/s eta 0:00:01\r\u001b[K     |██████████████▉                 | 1.0MB 17.7MB/s eta 0:00:01\r\u001b[K     |███████████████                 | 1.1MB 17.7MB/s eta 0:00:01\r\u001b[K     |███████████████▏                | 1.1MB 17.7MB/s eta 0:00:01\r\u001b[K     |███████████████▎                | 1.1MB 17.7MB/s eta 0:00:01\r\u001b[K     |███████████████▍                | 1.1MB 17.7MB/s eta 0:00:01\r\u001b[K     |███████████████▋                | 1.1MB 17.7MB/s eta 0:00:01\r\u001b[K     |███████████████▊                | 1.1MB 17.7MB/s eta 0:00:01\r\u001b[K     |███████████████▉                | 1.1MB 17.7MB/s eta 0:00:01\r\u001b[K     |████████████████                | 1.1MB 17.7MB/s eta 0:00:01\r\u001b[K     |████████████████▏               | 1.1MB 17.7MB/s eta 0:00:01\r\u001b[K     |████████████████▎               | 1.1MB 17.7MB/s eta 0:00:01\r\u001b[K     |████████████████▍               | 1.2MB 17.7MB/s eta 0:00:01\r\u001b[K     |████████████████▋               | 1.2MB 17.7MB/s eta 0:00:01\r\u001b[K     |████████████████▊               | 1.2MB 17.7MB/s eta 0:00:01\r\u001b[K     |████████████████▉               | 1.2MB 17.7MB/s eta 0:00:01\r\u001b[K     |█████████████████               | 1.2MB 17.7MB/s eta 0:00:01\r\u001b[K     |█████████████████▏              | 1.2MB 17.7MB/s eta 0:00:01\r\u001b[K     |█████████████████▎              | 1.2MB 17.7MB/s eta 0:00:01\r\u001b[K     |█████████████████▌              | 1.2MB 17.7MB/s eta 0:00:01\r\u001b[K     |█████████████████▋              | 1.2MB 17.7MB/s eta 0:00:01\r\u001b[K     |█████████████████▊              | 1.2MB 17.7MB/s eta 0:00:01\r\u001b[K     |█████████████████▉              | 1.3MB 17.7MB/s eta 0:00:01\r\u001b[K     |██████████████████              | 1.3MB 17.7MB/s eta 0:00:01\r\u001b[K     |██████████████████▏             | 1.3MB 17.7MB/s eta 0:00:01\r\u001b[K     |██████████████████▎             | 1.3MB 17.7MB/s eta 0:00:01\r\u001b[K     |██████████████████▌             | 1.3MB 17.7MB/s eta 0:00:01\r\u001b[K     |██████████████████▋             | 1.3MB 17.7MB/s eta 0:00:01\r\u001b[K     |██████████████████▊             | 1.3MB 17.7MB/s eta 0:00:01\r\u001b[K     |███████████████████             | 1.3MB 17.7MB/s eta 0:00:01\r\u001b[K     |███████████████████             | 1.3MB 17.7MB/s eta 0:00:01\r\u001b[K     |███████████████████▏            | 1.4MB 17.7MB/s eta 0:00:01\r\u001b[K     |███████████████████▍            | 1.4MB 17.7MB/s eta 0:00:01\r\u001b[K     |███████████████████▌            | 1.4MB 17.7MB/s eta 0:00:01\r\u001b[K     |███████████████████▋            | 1.4MB 17.7MB/s eta 0:00:01\r\u001b[K     |███████████████████▊            | 1.4MB 17.7MB/s eta 0:00:01\r\u001b[K     |████████████████████            | 1.4MB 17.7MB/s eta 0:00:01\r\u001b[K     |████████████████████            | 1.4MB 17.7MB/s eta 0:00:01\r\u001b[K     |████████████████████▏           | 1.4MB 17.7MB/s eta 0:00:01\r\u001b[K     |████████████████████▍           | 1.4MB 17.7MB/s eta 0:00:01\r\u001b[K     |████████████████████▌           | 1.4MB 17.7MB/s eta 0:00:01\r\u001b[K     |████████████████████▋           | 1.5MB 17.7MB/s eta 0:00:01\r\u001b[K     |████████████████████▉           | 1.5MB 17.7MB/s eta 0:00:01\r\u001b[K     |█████████████████████           | 1.5MB 17.7MB/s eta 0:00:01\r\u001b[K     |█████████████████████           | 1.5MB 17.7MB/s eta 0:00:01\r\u001b[K     |█████████████████████▎          | 1.5MB 17.7MB/s eta 0:00:01\r\u001b[K     |█████████████████████▍          | 1.5MB 17.7MB/s eta 0:00:01\r\u001b[K     |█████████████████████▌          | 1.5MB 17.7MB/s eta 0:00:01\r\u001b[K     |█████████████████████▊          | 1.5MB 17.7MB/s eta 0:00:01\r\u001b[K     |█████████████████████▉          | 1.5MB 17.7MB/s eta 0:00:01\r\u001b[K     |██████████████████████          | 1.5MB 17.7MB/s eta 0:00:01\r\u001b[K     |██████████████████████          | 1.6MB 17.7MB/s eta 0:00:01\r\u001b[K     |██████████████████████▎         | 1.6MB 17.7MB/s eta 0:00:01\r\u001b[K     |██████████████████████▍         | 1.6MB 17.7MB/s eta 0:00:01\r\u001b[K     |██████████████████████▌         | 1.6MB 17.7MB/s eta 0:00:01\r\u001b[K     |██████████████████████▊         | 1.6MB 17.7MB/s eta 0:00:01\r\u001b[K     |██████████████████████▉         | 1.6MB 17.7MB/s eta 0:00:01\r\u001b[K     |███████████████████████         | 1.6MB 17.7MB/s eta 0:00:01\r\u001b[K     |███████████████████████▏        | 1.6MB 17.7MB/s eta 0:00:01\r\u001b[K     |███████████████████████▎        | 1.6MB 17.7MB/s eta 0:00:01\r\u001b[K     |███████████████████████▍        | 1.6MB 17.7MB/s eta 0:00:01\r\u001b[K     |███████████████████████▋        | 1.7MB 17.7MB/s eta 0:00:01\r\u001b[K     |███████████████████████▊        | 1.7MB 17.7MB/s eta 0:00:01\r\u001b[K     |███████████████████████▉        | 1.7MB 17.7MB/s eta 0:00:01\r\u001b[K     |████████████████████████        | 1.7MB 17.7MB/s eta 0:00:01\r\u001b[K     |████████████████████████▏       | 1.7MB 17.7MB/s eta 0:00:01\r\u001b[K     |████████████████████████▎       | 1.7MB 17.7MB/s eta 0:00:01\r\u001b[K     |████████████████████████▍       | 1.7MB 17.7MB/s eta 0:00:01\r\u001b[K     |████████████████████████▋       | 1.7MB 17.7MB/s eta 0:00:01\r\u001b[K     |████████████████████████▊       | 1.7MB 17.7MB/s eta 0:00:01\r\u001b[K     |████████████████████████▉       | 1.8MB 17.7MB/s eta 0:00:01\r\u001b[K     |█████████████████████████       | 1.8MB 17.7MB/s eta 0:00:01\r\u001b[K     |█████████████████████████▏      | 1.8MB 17.7MB/s eta 0:00:01\r\u001b[K     |█████████████████████████▎      | 1.8MB 17.7MB/s eta 0:00:01\r\u001b[K     |█████████████████████████▌      | 1.8MB 17.7MB/s eta 0:00:01\r\u001b[K     |█████████████████████████▋      | 1.8MB 17.7MB/s eta 0:00:01\r\u001b[K     |█████████████████████████▊      | 1.8MB 17.7MB/s eta 0:00:01\r\u001b[K     |█████████████████████████▉      | 1.8MB 17.7MB/s eta 0:00:01\r\u001b[K     |██████████████████████████      | 1.8MB 17.7MB/s eta 0:00:01\r\u001b[K     |██████████████████████████▏     | 1.8MB 17.7MB/s eta 0:00:01\r\u001b[K     |██████████████████████████▎     | 1.9MB 17.7MB/s eta 0:00:01\r\u001b[K     |██████████████████████████▌     | 1.9MB 17.7MB/s eta 0:00:01\r\u001b[K     |██████████████████████████▋     | 1.9MB 17.7MB/s eta 0:00:01\r\u001b[K     |██████████████████████████▊     | 1.9MB 17.7MB/s eta 0:00:01\r\u001b[K     |███████████████████████████     | 1.9MB 17.7MB/s eta 0:00:01\r\u001b[K     |███████████████████████████     | 1.9MB 17.7MB/s eta 0:00:01\r\u001b[K     |███████████████████████████▏    | 1.9MB 17.7MB/s eta 0:00:01\r\u001b[K     |███████████████████████████▍    | 1.9MB 17.7MB/s eta 0:00:01\r\u001b[K     |███████████████████████████▌    | 1.9MB 17.7MB/s eta 0:00:01\r\u001b[K     |███████████████████████████▋    | 1.9MB 17.7MB/s eta 0:00:01\r\u001b[K     |███████████████████████████▊    | 2.0MB 17.7MB/s eta 0:00:01\r\u001b[K     |████████████████████████████    | 2.0MB 17.7MB/s eta 0:00:01\r\u001b[K     |████████████████████████████    | 2.0MB 17.7MB/s eta 0:00:01\r\u001b[K     |████████████████████████████▏   | 2.0MB 17.7MB/s eta 0:00:01\r\u001b[K     |████████████████████████████▍   | 2.0MB 17.7MB/s eta 0:00:01\r\u001b[K     |████████████████████████████▌   | 2.0MB 17.7MB/s eta 0:00:01\r\u001b[K     |████████████████████████████▋   | 2.0MB 17.7MB/s eta 0:00:01\r\u001b[K     |████████████████████████████▉   | 2.0MB 17.7MB/s eta 0:00:01\r\u001b[K     |█████████████████████████████   | 2.0MB 17.7MB/s eta 0:00:01\r\u001b[K     |█████████████████████████████   | 2.0MB 17.7MB/s eta 0:00:01\r\u001b[K     |█████████████████████████████▎  | 2.1MB 17.7MB/s eta 0:00:01\r\u001b[K     |█████████████████████████████▍  | 2.1MB 17.7MB/s eta 0:00:01\r\u001b[K     |█████████████████████████████▌  | 2.1MB 17.7MB/s eta 0:00:01\r\u001b[K     |█████████████████████████████▋  | 2.1MB 17.7MB/s eta 0:00:01\r\u001b[K     |█████████████████████████████▉  | 2.1MB 17.7MB/s eta 0:00:01\r\u001b[K     |██████████████████████████████  | 2.1MB 17.7MB/s eta 0:00:01\r\u001b[K     |██████████████████████████████  | 2.1MB 17.7MB/s eta 0:00:01\r\u001b[K     |██████████████████████████████▎ | 2.1MB 17.7MB/s eta 0:00:01\r\u001b[K     |██████████████████████████████▍ | 2.1MB 17.7MB/s eta 0:00:01\r\u001b[K     |██████████████████████████████▌ | 2.2MB 17.7MB/s eta 0:00:01\r\u001b[K     |██████████████████████████████▊ | 2.2MB 17.7MB/s eta 0:00:01\r\u001b[K     |██████████████████████████████▉ | 2.2MB 17.7MB/s eta 0:00:01\r\u001b[K     |███████████████████████████████ | 2.2MB 17.7MB/s eta 0:00:01\r\u001b[K     |███████████████████████████████▏| 2.2MB 17.7MB/s eta 0:00:01\r\u001b[K     |███████████████████████████████▎| 2.2MB 17.7MB/s eta 0:00:01\r\u001b[K     |███████████████████████████████▍| 2.2MB 17.7MB/s eta 0:00:01\r\u001b[K     |███████████████████████████████▋| 2.2MB 17.7MB/s eta 0:00:01\r\u001b[K     |███████████████████████████████▊| 2.2MB 17.7MB/s eta 0:00:01\r\u001b[K     |███████████████████████████████▉| 2.2MB 17.7MB/s eta 0:00:01\r\u001b[K     |████████████████████████████████| 2.3MB 17.7MB/s eta 0:00:01\r\u001b[K     |████████████████████████████████| 2.3MB 17.7MB/s \n",
            "\u001b[?25hRequirement already satisfied: numpy in /usr/local/lib/python3.7/dist-packages (from biopython) (1.19.5)\n",
            "Installing collected packages: biopython\n",
            "Successfully installed biopython-1.78\n"
          ],
          "name": "stdout"
        }
      ]
    },
    {
      "cell_type": "code",
      "metadata": {
        "id": "MJ2_loSRvnZN"
      },
      "source": [
        "from Bio import AlignIO\n",
        "from Bio.Seq import Seq\n",
        "from Bio.SeqRecord import SeqRecord\n",
        "from Bio.Align import MultipleSeqAlignment\n",
        "\n",
        "\n",
        "a = SeqRecord(Seq(\"AAAACGT\"), id=\"Alpha\")\n",
        "b = SeqRecord(Seq(\"AAA-CGT\"), id=\"Beta\")\n",
        "c = SeqRecord(Seq(\"AAAAGGT\"), id=\"Gamma\")\n",
        "align = MultipleSeqAlignment([a, b, c])\n",
        "print(format(align, \"phylip\"))\n",
        "\n",
        "# definice funkce\n",
        "def multiple_seq_alignment(name):\n",
        "  file = AlignIO.read(name, \"fasta\") # načtení souboru\n",
        "  # zarovnání\n",
        "  align = MultipleSeqAlignment(file)\n",
        "  # zobrazení\n",
        "  print(format(align, \"phylip\"))\n",
        "multiple_seq_alignment(\"cox2_nucleotide_blast.fasta\")\n",
        "multiple_seq_alignment(\"cox2_protein_blast.fasta\")\n"
      ],
      "execution_count": null,
      "outputs": []
    },
    {
      "cell_type": "markdown",
      "metadata": {
        "id": "PZHvtmOLhfNv"
      },
      "source": [
        "### **Úkol č. 3:** <br>\n",
        "Stažené nukleotidové a proteinové sekvence genu COX2 pro 5 organismů zarovnejte pomocí nástroje CLUSTAL Omega: \n",
        "* https://www.ebi.ac.uk/Tools/msa/clustalo/\n",
        "* nezapomeňte nastavit, zda zarovnáváte nukleotidy nebo proteiny</br>\n",
        "* zaměřte se na možnosti výstupních formátů</br>\n",
        "\n",
        "Zarovnané nukleotidové a proteinové sekvence si stáhněte. Stažené soubory odevzdejte (zarovnané nukleotidové homologní sekvence, zarovnané proteinové homologní sekvence).\n",
        "\n",
        "Načtěte a zobrazte stažená zarovnání.\n"
      ]
    },
    {
      "cell_type": "code",
      "metadata": {
        "id": "sJOq_dEz-toH"
      },
      "source": [
        "# definice funkce\n",
        "def clustal(name):\n",
        "  # načtení souboru typu CLUSTAL: ... (name, \"clustal\")\n",
        "  file = AlignIO.read(name, \"clustal\") # načtení souboru\n",
        "  # zobrazení\n",
        "  print(format(file, \"phylip\"))\n",
        "\n",
        "#volání funkce\n",
        "clustal(\"clustal_nucleotide.clustal_num\")\n",
        "clustal(\"clustal_protein.clustal_num\")"
      ],
      "execution_count": null,
      "outputs": []
    },
    {
      "cell_type": "markdown",
      "metadata": {
        "id": "EPK4If4fiY-_"
      },
      "source": [
        "### **Úkol č. 4:** <br>\n",
        "Načtěte sekvence z e-learningu označené jako sekvence_ukol4.fasta. Jedná se o nukleotidové sekvence stažené přes BLAST.</br>\n",
        "\n",
        "Jelikož BLAST provádí lokální zarovnání, může se stát, že u nalezené sekvence chybí začátek či konec genu. Tím pádem může dojít k posunu čtecího rámce. </br>\n",
        "\n",
        "Přeložte sekvence do proteinů se správným čtecím rámcem.\n",
        "* každá sekvence může mít čtecí rámec jinde\n",
        "* správný čtecí rámec poznáte tak, že v proteinové sekvenci se nevyskytuje stop kodon\n",
        "\n",
        "Proteinové sekvence stáhněte a zarovnejte pomocí Clustal. Zarované sekvence zobrazte a odevzdejte.\n",
        "\n"
      ]
    },
    {
      "cell_type": "code",
      "metadata": {
        "id": "hkHJZQbJ3U73",
        "colab": {
          "base_uri": "https://localhost:8080/"
        },
        "outputId": "62fd6aaa-fd4e-4396-a72c-fe154f4f7720"
      },
      "source": [
        "from Bio import AlignIO\n",
        "from Bio.Seq import Seq\n",
        "from Bio.SeqRecord import SeqRecord\n",
        "from Bio.Align import MultipleSeqAlignment\n",
        "from Bio import SeqIO\n",
        "\n",
        "def protein_translation(file_name):\n",
        "  trans_prot = []\n",
        "  for record in SeqIO.parse(file_name, \"fasta\"):\n",
        "    seq = record.seq\n",
        "    id = record.id\n",
        "    print(id)\n",
        "    print(seq)\n",
        "    for i in range(3):\n",
        "      prot = seq[i:].translate(table=\"Vertebrate Mitochondrial\")\n",
        "      print(prot) \n",
        "      if prot.count(\"*\") == 0:\n",
        "        trans_prot.append(prot)\n",
        "        break\n",
        "  print(trans_prot)\n",
        "\n",
        "protein_translation(\"sekvence_ukol4.fasta\")\n",
        "\n",
        "def clustal(name):\n",
        "  file = AlignIO.read(name, \"clustal\")\n",
        "  print(format(file, \"phylip\"))\n",
        "\n",
        "clustal(\"clustal_of_trans_prot_seq.clustal_num\")\n"
      ],
      "execution_count": null,
      "outputs": [
        {
          "output_type": "stream",
          "text": [
            "JN801510.1\n",
            "GTGACTTTCATTAACCGATGATTATTTTCTACCAACCACAAAGATATCGGCACTCTCTACCTAATTTTCGGAGCATGAGCCGGTATAATTGGAACCTCCCTTAGCCTCCTAATTCGAGCTGAACTTGGACAACCAGGCACTCTCCTAGGTGACGACCAAATTTACAACGTTATTGTCACCGCCCATGCCTTCGTAATAATCTTCTTCATAGTTATACCCATTATAATCGGTGGCTTCGGTAACTGATTAGTACCACTAATAATCGGCGCCCCTGATATAGCATTCCCCCGAATAAATAACATAAGCTTTTGACTCCTACCCCCATCCTTCCTGCTTCTACTAGCTTCCTCAACAGTAGAGGCCGGAGTAGGAACAGGATGGACAGTCTACCCCCCATTAGCAGGCAACCTAGCCCACGCTGGAGCCTCAGTAGACCTGGCCATCTTTTCCCTTCACTTAGCAGGTGTATCCTCTATCCTAGGAGCCATCAACTTTATCACTACCGCAATCAACATAAAACCTCCCGCCCTCTCACAATATCAAACCCCCCTATTCGTCTGATCCGTCCTCATCACTGCCGTTCTACTTCTACTTTCCCTTCCTGTCCTAGCCGCTGGAATCACAATACTACTTACAGACCGCAATCTCAATACCACATTCTTTGACCCTGCTGGAGGCGGAGACCCTGTATTATACCAACACTTATTCTGATTCTTCGGTCACCCAGAA\n",
            "VTFINRWLFSTNHKDIGTLYLIFGAWAGMIGTSLSLLIRAELGQPGTLLGDDQIYNVIVTAHAFVMIFFMVMPIMIGGFGNWLVPLMIGAPDMAFPRMNNMSFWLLPPSFLLLLASSTVEAGVGTGWTVYPPLAGNLAHAGASVDLAIFSLHLAGVSSILGAINFITTAINMKPPALSQYQTPLFVWSVLITAVLLLLSLPVLAAGITMLLTDRNLNTTFFDPAGGGDPVLYQHLFWFFGHPE\n",
            "JX487747.1\n",
            "GTGACTTTCATTAACCGATGATTATTTTCCACAAACCATAAAGACATTGGCACTCTTTACTTAATTTTCGGAGCATGAGCTGGTATGATTGGAACCTCCCTTAGCCTCCTAATCCGAGCCGAACTCGGACAACCAGGTACTCTCCTAGGTGATGATCAAATTTATAATGTGATTGTCACCGCTCATGCCTTCGTAATAATCTTTTTTATAGTCATACCCATCATAATCGGCGGCTTCGGCAACTGATTAGTCCCACTAATAATTGGTGCCCCCGATATAGCATTTCCCCGAATAAATAACATAAGCTTCTGACTTCTACCCCCATCCTTCCTATTACTACTAGCCTCCTCAACAGTGGAAGCCGGAGTAGGGACAGGATGAACAGTCTACCCCCCGCTAGCGGGTAATCTAGCCCACGCCGGAGCTTCAGTAGACCTGGCTATCTTCTCTCTCCACCTAGCAGGTGTATCCTCCATTCTAGGGGCTATTAACTTTATCACAACTGCAATCAACATAAAACCACCCGCCCTCTCACAGTACCAAACTCCACTGTTTGTCTGATCCGTCCTCATTACTGCCGTATTACTCCTACTCTCCCTCCCAGTCTTAGCCGCTGGTATTACAATACTACTCACAGACCGTAATCTCAACACTACATTCTTTGACCCAGCCGGAGGCGGAGACCCCGTCTTATATCAACACCTATTCTGATTCTTCGGACACCCCGAAGTCTACATCCTTATTCTTCCAGGATTCGGAATTATTTCCCACG\n",
            "VTFINRWLFSTNHKDIGTLYLIFGAWAGMIGTSLSLLIRAELGQPGTLLGDDQIYNVIVTAHAFVMIFFMVMPIMIGGFGNWLVPLMIGAPDMAFPRMNNMSFWLLPPSFLLLLASSTVEAGVGTGWTVYPPLAGNLAHAGASVDLAIFSLHLAGVSSILGAINFITTAINMKPPALSQYQTPLFVWSVLITAVLLLLSLPVLAAGITMLLTDRNLNTTFFDPAGGGDPVLYQHLFWFFGHPEVYILILPGFGIISH\n",
            "JN801575.1\n",
            "GTGACTTTCATTAACCGATGATTATTTTCTACTAACCACAAAGACATTGGCACTCTTTACCTAATTTTTGGAGCATGAGCTGGTATAATTGGAACCGCCCTTAGCCTCCTTATCCGAGCTGAACTCGGACAACCAGGTACCCTCCTAGGAGATGACCAAATTTACAATGTAATTGTCACCGCCCATGCCTTCGTAATAATTTTCTTTATAGTTATGCCCATTATAATTGGTGGCTTTGGTAACTGACTAGTACCACTAATAATTGGTGCCCCCGATATAGCCTTTCCCCGAATAAACAACATAAGTTTCTGACTTCTCCCACCATCCTTCCTACTCCTCCTAGCTTCCTCAACAGTAGAAGCAGGAGTTGGAACAGGATGAACAGTCTACCCTCCACTAGCAGGCAATCTAGCCCATGCCGGAGCTTCAGTAGACCTAGCAATCTTCTCCCTCCACTTAGCCGGTGTATCCTCCATTCTAGGAGCAATCAACTTTATTACAACTGCAATCAACATAAAACCTCCTACTCTCTCACAATATCAAACCCCACTATTCGTCTGATCCGTCCTCATCACTGCTGTCCTTCTTCTACTCTCCCTCCCTGTTCTAGCCGCTGGAATTACAATATTACTCACAGACCGCAACCTAAACACCACATTCTTTGATCCAGCCGGAGGCGGAGACCCCGTTCTATACCAACATCTATTCTGATTCTTTGGTCACCCAGAAGTCTA\n",
            "VTFINRWLFSTNHKDIGTLYLIFGAWAGMIGTALSLLIRAELGQPGTLLGDDQIYNVIVTAHAFVMIFFMVMPIMIGGFGNWLVPLMIGAPDMAFPRMNNMSFWLLPPSFLLLLASSTVEAGVGTGWTVYPPLAGNLAHAGASVDLAIFSLHLAGVSSILGAINFITTAINMKPPTLSQYQTPLFVWSVLITAVLLLLSLPVLAAGITMLLTDRNLNTTFFDPAGGGDPVLYQHLFWFFGHPEV\n",
            "JN801778.1\n",
            "GTGACTTTCATTAACCGATGATTATTCTCTACCAACCATAAAGACATTGGCACCCTTTACCTAATTTTCGGAGCATGAGCCGGTATAATTGGAACCGCCCTAAGCCTCCTTATCCGAGCTGAACTAGGACAACCAGGCACTCTCCTAGGAGATGACCAAATTTATAATGTAATCGTCACCGCCCATGCCTTCGTAATAATCTTCTTTATAGTTATACCCATCATAATCGGTGGCTTCGGTAACTGACTAGTGCCCCTAATAATTGGTGCTCCCGATATAGCCTTCCCTCGAATAAATAACATAAGCTTCTGACTTTTACCTCCATCCTTCTTACTCCTCCTAGCCTCTTCAACAGTAGAAGCCGGAGCCGGAACAGGATGAACAGTCTACCCTCCACTAGCAGGTAACCTAGCCCATGCTGGAGCTTCAGTAGACCTAGCAATCTTCTCCTTGCACTTAGCTGGTGTATCCTCTATCCTAGGAGCAATCAACTTTATCACAACTGCAATTAACATAAAACCACCAGCCCTTTCACAATACCAAACCCCATTATTCGTCTGATCTGTTCTCATCACTGCCGTCCTTCTCTTACTCTCCCTCCCCGTTTTAGCCGCTGGAATCACTATACTACTTACAGACCGCAACCTAAACACCACATTCTTCGACCCAGCTGGAGGAGGAGACCCAGTTCTATACCAACACCTATTCTGATTCTTG\n",
            "VTFINRWLFSTNHKDIGTLYLIFGAWAGMIGTALSLLIRAELGQPGTLLGDDQIYNVIVTAHAFVMIFFMVMPIMIGGFGNWLVPLMIGAPDMAFPRMNNMSFWLLPPSFLLLLASSTVEAGAGTGWTVYPPLAGNLAHAGASVDLAIFSLHLAGVSSILGAINFITTAINMKPPALSQYQTPLFVWSVLITAVLLLLSLPVLAAGITMLLTDRNLNTTFFDPAGGGDPVLYQHLFWFL\n",
            "JQ174138.1\n",
            "TCTCTATCTAATTTTCGGAGCATGAGCCGGTATAATTGGAACCTCCCTTAGCCTCCTAATCCGAGCTGAACTTGGTCAACCAGGCACTCTCCTAGGTGACGATCAAATTTACAATGTAATCGTTACTGCCCATGCTTTCGTAATAATTTTCTTCATAGTTATACCCATTATGATCGGCGGCTTTGGAAACTGATTAGTCCCACTAATAATCGGCGCTCCAGACATAGCATTCCCCCGGATAAATAACATAAGCTTTTGGCTTCTACCCCCATCCTTCCTACTCCTACTAGCTTCCTCAACAGTAGAAGCTGGAGTAGGAACAGGATGAACAGTTTATCCCCCATTGGCAGGTAACCTAGCCCATGCTGGGGCCTCAGTGGATTTAGCTATCTTTTCCCTTCACCTAGCAGGCGTATCCTCTATCTTAGGAGCTATCAACTTTATCACAACCGCAATCAACATAAAACCCCCCGCCCTCTCACAATACCAGACCCCTCTATTCGTTTGATCCGTTCTCATCACTGCCGTTCTACTACTACTCTCTCTCCCTGTCCTAGCCGCTGGAATCACAATACTACTCACAGATCGTAATCTTAACACTACTTTCTTTGACCCTGCCGGAGGCGGAGACCCTGTACTATACCAACACCTA\n",
            "SLSNFRSMSRYNWNLP*PPNPSWTWST*HSP*WRSNLQCNRYCPCFRNNFLHSYTHYDRRLWKLISPTNNRRS*HSIPPDK*HKLLASTPILPTPTSFLNS*SWS*N*MNSLSPIG**PSPCWGLSGFSYLFPSPS*RILYL*SYQLYHNRNQHKTPRPLTMPDPSIRLIRSHHCRSTTTLSPCPSRWNHNTTH*S*S*HYFLWPCR*R*PCTMPTP\n",
            "LYLIFGAWAGMIGTSLSLLIRAELGQPGTLLGDDQIYNVIVTAHAFVMIFFMVMPIMIGGFGNWLVPLMIGAPDMAFPRMNNMSFWLLPPSFLLLLASSTVEAGVGTGWTVYPPLAGNLAHAGASVDLAIFSLHLAGVSSILGAINFITTAINMKPPALSQYQTPLFVWSVLITAVLLLLSLPVLAAGITMLLTDRNLNTTFFDPAGGGDPVLYQHL\n",
            "[Seq('VTFINRWLFSTNHKDIGTLYLIFGAWAGMIGTSLSLLIRAELGQPGTLLGDDQI...HPE'), Seq('VTFINRWLFSTNHKDIGTLYLIFGAWAGMIGTSLSLLIRAELGQPGTLLGDDQI...ISH'), Seq('VTFINRWLFSTNHKDIGTLYLIFGAWAGMIGTALSLLIRAELGQPGTLLGDDQI...PEV'), Seq('VTFINRWLFSTNHKDIGTLYLIFGAWAGMIGTALSLLIRAELGQPGTLLGDDQI...WFL'), Seq('LYLIFGAWAGMIGTSLSLLIRAELGQPGTLLGDDQIYNVIVTAHAFVMIFFMVM...QHL')]\n",
            " 5 257\n",
            "JN801778.1 VTFINRWLFS TNHKDIGTLY LIFGAWAGMI GTALSLLIRA ELGQPGTLLG\n",
            "JN801575.1 VTFINRWLFS TNHKDIGTLY LIFGAWAGMI GTALSLLIRA ELGQPGTLLG\n",
            "JN801510.1 VTFINRWLFS TNHKDIGTLY LIFGAWAGMI GTSLSLLIRA ELGQPGTLLG\n",
            "JX487747.1 VTFINRWLFS TNHKDIGTLY LIFGAWAGMI GTSLSLLIRA ELGQPGTLLG\n",
            "JQ174138.1 ---------- --------LY LIFGAWAGMI GTSLSLLIRA ELGQPGTLLG\n",
            "\n",
            "           DDQIYNVIVT AHAFVMIFFM VMPIMIGGFG NWLVPLMIGA PDMAFPRMNN\n",
            "           DDQIYNVIVT AHAFVMIFFM VMPIMIGGFG NWLVPLMIGA PDMAFPRMNN\n",
            "           DDQIYNVIVT AHAFVMIFFM VMPIMIGGFG NWLVPLMIGA PDMAFPRMNN\n",
            "           DDQIYNVIVT AHAFVMIFFM VMPIMIGGFG NWLVPLMIGA PDMAFPRMNN\n",
            "           DDQIYNVIVT AHAFVMIFFM VMPIMIGGFG NWLVPLMIGA PDMAFPRMNN\n",
            "\n",
            "           MSFWLLPPSF LLLLASSTVE AGAGTGWTVY PPLAGNLAHA GASVDLAIFS\n",
            "           MSFWLLPPSF LLLLASSTVE AGVGTGWTVY PPLAGNLAHA GASVDLAIFS\n",
            "           MSFWLLPPSF LLLLASSTVE AGVGTGWTVY PPLAGNLAHA GASVDLAIFS\n",
            "           MSFWLLPPSF LLLLASSTVE AGVGTGWTVY PPLAGNLAHA GASVDLAIFS\n",
            "           MSFWLLPPSF LLLLASSTVE AGVGTGWTVY PPLAGNLAHA GASVDLAIFS\n",
            "\n",
            "           LHLAGVSSIL GAINFITTAI NMKPPALSQY QTPLFVWSVL ITAVLLLLSL\n",
            "           LHLAGVSSIL GAINFITTAI NMKPPTLSQY QTPLFVWSVL ITAVLLLLSL\n",
            "           LHLAGVSSIL GAINFITTAI NMKPPALSQY QTPLFVWSVL ITAVLLLLSL\n",
            "           LHLAGVSSIL GAINFITTAI NMKPPALSQY QTPLFVWSVL ITAVLLLLSL\n",
            "           LHLAGVSSIL GAINFITTAI NMKPPALSQY QTPLFVWSVL ITAVLLLLSL\n",
            "\n",
            "           PVLAAGITML LTDRNLNTTF FDPAGGGDPV LYQHLFWFL- ----------\n",
            "           PVLAAGITML LTDRNLNTTF FDPAGGGDPV LYQHLFWFFG HPEV------\n",
            "           PVLAAGITML LTDRNLNTTF FDPAGGGDPV LYQHLFWFFG HPE-------\n",
            "           PVLAAGITML LTDRNLNTTF FDPAGGGDPV LYQHLFWFFG HPEVYILILP\n",
            "           PVLAAGITML LTDRNLNTTF FDPAGGGDPV LYQHL----- ----------\n",
            "\n",
            "           -------\n",
            "           -------\n",
            "           -------\n",
            "           GFGIISH\n",
            "           -------\n",
            "\n"
          ],
          "name": "stdout"
        },
        {
          "output_type": "stream",
          "text": [
            "/usr/local/lib/python3.7/dist-packages/Bio/Seq.py:2338: BiopythonWarning: Partial codon, len(sequence) not a multiple of three. Explicitly trim the sequence or add trailing N before translation. This may become an error in future.\n",
            "  BiopythonWarning,\n"
          ],
          "name": "stderr"
        }
      ]
    },
    {
      "cell_type": "markdown",
      "metadata": {
        "id": "NeIzI8X1b9uQ"
      },
      "source": [
        "SHRNUTÍ K ODEVZDÁNÍ: </br>\n",
        "Všechny soubory odevzdávejte ve FASTA formátu, nebo v .ipynb. </br>\n",
        "* tento soubor s vypracovanými úkoly 1-4\n",
        "* gen COX2 kočky domácí, nukleotidové homologní sekvence, proteinové homologní sekvence (viz úkol 1)\n",
        "* zarovnané nukleotidové homologní sekvence, zarovnané proteinové homologní sekvence (viz úkol 3)\n",
        "* zarovnané sekvence (viz úkol 4)"
      ]
    }
  ]
}