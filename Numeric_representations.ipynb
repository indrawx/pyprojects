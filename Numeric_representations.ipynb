{
  "nbformat": 4,
  "nbformat_minor": 0,
  "metadata": {
    "colab": {
      "name": "cviceni_10_student.ipynb",
      "provenance": [],
      "collapsed_sections": []
    },
    "kernelspec": {
      "display_name": "Python 3",
      "name": "python3"
    }
  },
  "cells": [
    {
      "cell_type": "markdown",
      "metadata": {
        "id": "-PRisH6H3EGt"
      },
      "source": [
        "<h1> BPC-BIN: 10. cvičení - Numerické reprezentace </h1>"
      ]
    },
    {
      "cell_type": "markdown",
      "metadata": {
        "id": "aFPdwI9Vxnch"
      },
      "source": [
        "## <u>Numerické reprezentace</u>\n",
        "\n",
        "* převod genomické nebo proteomické sekvence do číselného formátu podle numerické mapy\n",
        "* 1D signál = sekvence NT či AA\n",
        "* numerická mapa\n",
        "  * způsob převedení znakových dat do číselných dat\n",
        "  * volba mapy závisí na typu analýzy, kterou chceme provést\n",
        "  * může omezit informační obsah nebo zvýraznit některé vlastnosti sekvencí  \n",
        "\n",
        "\n"
      ]
    },
    {
      "cell_type": "markdown",
      "metadata": {
        "id": "54QUnBIUywoB"
      },
      "source": [
        "## <u>Biochemické vlastnosti DNA sekvencí</u><br>\n",
        "\n",
        "* molekulární struktura\n",
        "    * puriny (R) x pyrimidiny (Y)\n",
        "* síla komplementární vazby\n",
        "    * slabá (W) x silná (S) vazba\n",
        "* obsah radikálů\n",
        "    * amino (M) x keto (K) skupina\n"
      ]
    },
    {
      "cell_type": "markdown",
      "metadata": {
        "id": "ORt2DZ5OyaBB"
      },
      "source": [
        "## <u>Nukletidový čtyřstěn</u>\n",
        "* odvození numerických map bez ztráty informace o biochemických vlastnostech\n",
        "* vrcholy - nukleotidy\n",
        "* hrany - biochemické vlastnosti\n",
        "* střed kartézského souřadného systému je uprostřed čtyřstěnu a pokud je vzdálenost k libovolné stěně rovna 1, pak vrcholy mají souřadnice:\n",
        "  * A = (1, 1, 1)\n",
        "  * C = (-1, 1, -1)\n",
        "  * G = (-1, -1, 1)\n",
        "  * T = (1, -1, -1)\n",
        "\n",
        "\n",
        "![](https://drive.google.com/uc?export=view&id=1wzKNGsVx3MBsbsxpidRx7cdJxqDDtcwo)\n",
        "\n"
      ]
    },
    {
      "cell_type": "markdown",
      "source": [
        "## <u>4D binární</u><br>\n",
        "\n",
        "* reprezentace indikačními vektory\n",
        "* bez informace o biochemických vlastnostech\n",
        "* pouze informace o výskytu nukleotidu na pozici v sekvenci\n",
        "* příklad:\n",
        "    ATGAATCA \n",
        "\n",
        "    uA = [1 0 0 1 1 0 0 1] </br>\n",
        "uC = [0 0 0 0 0 0 1 0] </br>\n",
        "uG = [0 0 1 0 0 0 0 0] </br>\n",
        "uT = [0 1 0 0 0 1 0 0] </br>\n"
      ],
      "metadata": {
        "id": "163Vk5EOVyqo"
      }
    },
    {
      "cell_type": "markdown",
      "source": [
        "## <u>Binární reprezentace</u><br>\n",
        "\n",
        "* pouze číslice 0 a 1 pro reprezentaci biochemických vlastností\n",
        "* 3 bity:\n",
        "  * R/Y = 0/1, S/W = 0/1, M/K = 0/1\n",
        "  * A = 010, C = 100, G = 001, T = 111\n",
        "* lze redukovat na 2 bity:\n",
        "  * R/Y = 0/1, S/W = 0/1\n",
        "  * A = 01, C = 10, G = 00, T = 11\n",
        "\n",
        "* příklad:\n",
        "    ATGAATCA \n",
        "\n",
        "    3 bity: 010111001010010111100010 </br>\n",
        "2 bity: 0111000101111001"
      ],
      "metadata": {
        "id": "jo0FQs4dWN2v"
      }
    },
    {
      "cell_type": "markdown",
      "source": [
        "## <u> 1. a 4. kvadrant</u><br>\n",
        "\n",
        "* nukleotidy jsou mapovány jednotkovými vektory v 1. a 4. kvadrantu kartézského souřadného systému\n",
        "* vrcholy mají souřadnice: </br>\n",
        "A =(1/2 , -√3/2)</br>\n",
        "C = (√3/2, 1/2)</br>\n",
        "G = (√3/2, -1/2)</br>\n",
        "T = (1/2, √3/2)</br>\n",
        "\n",
        "* možnost kumulace signálu - vhodné ke grafickému zobrazení bez degenerace (viz grafická reprezentace sekvence AGCATTGCAT vpravo)\n",
        "\n",
        "![](https://drive.google.com/uc?export=view&id=1rVS9avGnQJbnlHp4e-Qd4FQt5KMnKL8t)\n",
        "\n",
        "![](https://drive.google.com/uc?export=view&id=1zwuS9rO-8eI6NbJ1YvyQVsh29smQI4aE)"
      ],
      "metadata": {
        "id": "igtx2OKJMcRz"
      }
    },
    {
      "cell_type": "code",
      "metadata": {
        "id": "QXSd17dL6YEl"
      },
      "source": [
        "pip install biopython"
      ],
      "execution_count": null,
      "outputs": []
    },
    {
      "cell_type": "markdown",
      "source": [
        "## <u>Úkol 1:</u> <br>\n",
        "\n",
        "Vytvořte funkci *nt2bin*, která převede nukleotidovou sekvenci do 4D binárních sekvencí.\n",
        "\n",
        "* vstup funkce - nukleotidová sekvence\n",
        "* výstup funkce - pole indikačních vektorů\n",
        "\n",
        "Ukázka volání funkce:\n",
        "```\n",
        "nt2bin('TGCAATCGTC')\n",
        "```\n",
        "Ukázka výstupu:\n",
        "```\n",
        "array([[0., 0., 0., 1., 1., 0., 0., 0., 0., 0.],\n",
        "       [0., 0., 1., 0., 0., 0., 1., 0., 0., 1.],\n",
        "       [0., 1., 0., 0., 0., 0., 0., 1., 0., 0.],\n",
        "       [1., 0., 0., 0., 0., 1., 0., 0., 1., 0.]])\n",
        "```\n",
        "\n",
        "\n",
        "\n",
        "\n"
      ],
      "metadata": {
        "id": "4mAbxtFC1Mji"
      }
    },
    {
      "cell_type": "code",
      "source": [
        "## místo pro Váš kód\n",
        "import numpy as np\n",
        "\n",
        "def nt2bin(sequence):\n",
        "  #matice\n",
        "  m = 4\n",
        "  n = len(sequence)\n",
        "  M = np.zeros((m, n))\n",
        "\n",
        "  #prochazeni sekvence\n",
        "  for i in range (n):\n",
        "    if sequence[i] == 'A':\n",
        "      M[0,i] = 1\n",
        "    elif sequence[i] == 'C':\n",
        "      M[1,i] = 1\n",
        "    elif sequence[i] == 'G':\n",
        "      M[2,i] = 1\n",
        "    elif sequence[i] == 'T':\n",
        "      M[3,i] = 1\n",
        "  \n",
        "  return(M)\n",
        "\n",
        "nt2bin('TGCAATCGTC')"
      ],
      "metadata": {
        "id": "bAd3odjwjrmW",
        "colab": {
          "base_uri": "https://localhost:8080/"
        },
        "outputId": "d7900eae-a2e9-4f20-d7f1-4efe5fc7c0a0"
      },
      "execution_count": null,
      "outputs": [
        {
          "output_type": "execute_result",
          "data": {
            "text/plain": [
              "array([[0., 0., 0., 1., 1., 0., 0., 0., 0., 0.],\n",
              "       [0., 0., 1., 0., 0., 0., 1., 0., 0., 1.],\n",
              "       [0., 1., 0., 0., 0., 0., 0., 1., 0., 0.],\n",
              "       [1., 0., 0., 0., 0., 1., 0., 0., 1., 0.]])"
            ]
          },
          "metadata": {},
          "execution_count": 6
        }
      ]
    },
    {
      "cell_type": "markdown",
      "source": [
        "## <u>Úkol 2:</u> <br>\n",
        "\n",
        "Vytvořte funkci *nt2bin2*, která převede nukleotidovou sekvenci do dvou bitové reprezentace.\n",
        "\n",
        "* vstup funkce - nukleotidová sekvence\n",
        "* výstup funkce - list obsahující dvou bitové reprezentace\n",
        "\n",
        "Ukázka volání funkce:\n",
        "```\n",
        "nt2bin2('TGCAATCGTC')\n",
        "```\n",
        "Ukázka výstupu:\n",
        "```\n",
        "[1, 1, 0, 0, 1, 0, 0, 1, 0, 1, 1, 1, 1, 0, 0, 0, 1, 1, 1, 0]\n",
        "```\n",
        "\n"
      ],
      "metadata": {
        "id": "JV3gtWeuj13U"
      }
    },
    {
      "cell_type": "code",
      "source": [
        "## místo pro Váš kód\n",
        "def nt2bin2(sequence):\n",
        "  V = []\n",
        "  for i in range (len(sequence)):\n",
        "    if sequence[i] == 'A':\n",
        "      V.append(0)\n",
        "      V.append(1)\n",
        "    elif sequence[i] == 'T':\n",
        "      V.append(1)\n",
        "      V.append(1)\n",
        "    elif sequence[i] == 'G':\n",
        "      V.append(0)\n",
        "      V.append(0)\n",
        "    elif sequence[i] == 'C':\n",
        "      V.append(1)\n",
        "      V.append(0)\n",
        "  return (V)\n",
        "\n",
        "nt2bin2('TGCAATCGTC')\n",
        "\n"
      ],
      "metadata": {
        "id": "URvtNnEDz-hK"
      },
      "execution_count": null,
      "outputs": []
    },
    {
      "cell_type": "markdown",
      "metadata": {
        "id": "fkrbMQU8-SEC"
      },
      "source": [
        "## <u>Úkol 3 - 1. část:</u> <br>\n",
        "\n",
        "Vytvořte funkci *nt2kvad*, která převede nukleotidovou sekvenci do kumulované reprezentace pomocí 1. a 4. kvadrantu.\n",
        "\n",
        "* vstup funkce - nukleotidová sekvence\n",
        "* výstup funkce - kumulovaný signál reprezentace 1. a 4. kvadrantu\n",
        "\n",
        "Ukázka volání funkce:\n",
        "```\n",
        "nt2kvad('TGCAATCGTC')\n",
        "```\n",
        "Ukázka výstupu:\n",
        "```\n",
        "([0,  0.5,  1.3660254037844386,  2.232050807568877,  2.732050807568877,  3.232050807568877,  3.732050807568877,  4.598076211353316,  5.464101615137754,  5.964101615137754,  6.830127018922193], \n",
        "[0,  0.8660254037844386,  0.3660254037844386,  0.8660254037844386,  0.0,  -0.8660254037844386,  0.0,  0.5,  0.0,  0.8660254037844386,  1.3660254037844386])\n",
        "```\n",
        "\n"
      ]
    },
    {
      "cell_type": "code",
      "metadata": {
        "id": "lQOPswUY3xXx"
      },
      "source": [
        "## místo pro Váš kód\n",
        "import numpy as np\n",
        "import math\n",
        "\n",
        "def nt2kvad(sequence):\n",
        "  x = []\n",
        "  y = []\n",
        "  x_cs = []\n",
        "  y_cs = []\n",
        "\n",
        "\n",
        "  for i in range (len(sequence)):\n",
        "    if sequence[i] == 'A':\n",
        "      x.append(1/2)\n",
        "      y.append(-math.sqrt(3)/2)\n",
        "    elif sequence[i] == 'T':\n",
        "      x.append(1/2)\n",
        "      y.append(math.sqrt(3)/2)\n",
        "    elif sequence[i] == 'G':\n",
        "      x.append(math.sqrt(3)/2)\n",
        "      y.append(-1/2)\n",
        "    elif sequence[i] == 'C':\n",
        "      x.append(math.sqrt(3)/2)\n",
        "      y.append(1/2)\n",
        "\n",
        "  x_cs.append(0)\n",
        "  y_cs.append(0)\n",
        "\n",
        "  for j in range (len(sequence)):\n",
        "    x_cs.append(x_cs[j] + x[j])\n",
        "    y_cs.append(y_cs[j] + y[j])\n",
        "  return(x_cs, y_cs)\n",
        "\n",
        "nt2kvad('TGCAATCGTC')\n",
        "\n",
        "\n"
      ],
      "execution_count": null,
      "outputs": []
    },
    {
      "cell_type": "markdown",
      "source": [
        "## <u>Úkol 3 - 2. část:</u> <br>\n",
        "\n",
        "* Použijte naprogramovanou funkci *nt2kvad* na libovolnou nukleotidovou sekvenci a vykreslete kumulovaný signál pomocí reprezentace 1. a 4. kvadrantu.\n",
        "\n",
        "* Popište osy!\n"
      ],
      "metadata": {
        "id": "sFsn9ZzB7-p5"
      }
    },
    {
      "cell_type": "markdown",
      "source": [
        "Ukázka možného grafu:\n",
        "\n",
        "![](https://drive.google.com/uc?export=view&id=1YBkJWcumobY_13fH-C_4hF_VTATaswp8)\n"
      ],
      "metadata": {
        "id": "lJpz_125bzY6"
      }
    },
    {
      "cell_type": "code",
      "source": [
        "## místo pro Váš kód\n",
        "import matplotlib.pyplot as plt\n",
        "\n",
        "x_nt2kvad, y_nt2kvad = nt2kvad('TGCAATCGTC')\n",
        "fig, ax = plt.subplots()\n",
        "ax.plot(x_nt2kvad, y_nt2kvad, label='binary_sequence_quadrant')\n",
        "\n",
        "ax.set_xlabel('x label')  \n",
        "ax.set_ylabel('y label') \n",
        "ax.set_title(\"Simple Plot\")  \n",
        "ax.legend() \n",
        "print('x = ', x_nt2kvad, '\\ny = ', y_nt2kvad)\n"
      ],
      "metadata": {
        "id": "Cm0uACjubOCV",
        "colab": {
          "base_uri": "https://localhost:8080/",
          "height": 330
        },
        "outputId": "a952cf58-72ff-454a-d53c-3798e99e830a"
      },
      "execution_count": null,
      "outputs": [
        {
          "output_type": "stream",
          "name": "stdout",
          "text": [
            "x =  [0, 0.5, 1.3660254037844386, 2.232050807568877, 2.732050807568877, 3.232050807568877, 3.732050807568877, 4.598076211353316, 5.464101615137754, 5.964101615137754, 6.830127018922193] \n",
            "y =  [0, 0.8660254037844386, 0.3660254037844386, 0.8660254037844386, 0.0, -0.8660254037844386, 0.0, 0.5, 0.0, 0.8660254037844386, 1.3660254037844386]\n"
          ]
        },
        {
          "output_type": "display_data",
          "data": {
            "text/plain": [
              "<Figure size 432x288 with 1 Axes>"
            ],
            "image/png": "[encoded data removed]"
          },
          "metadata": {
            "needs_background": "light"
          }
        }
      ]
    },
    {
      "cell_type": "markdown",
      "source": [
        "## <u>Úkol 4:</u> <br>\n",
        "\n",
        "* Z NCBI z databáze Gene stáhněte gen COX3 pro 6 zadaných organismů (*Bos taurus, Canis lupus familiaris, Drosophila melanogaster, Octopus vulgaris, Pan troglodytes, Saccharomyces cerevisiae*) ve FASTA formátu.\n",
        "* Pomocí funkce z úkolu 3 vypočtěte kumulované signály pomocí reprezentace 1. a 4. kvadrantu.\n",
        "* Vykreslete signály pro jednotlivé organismy do jednoho grafu.  "
      ],
      "metadata": {
        "id": "NS9wUh6unN2-"
      }
    },
    {
      "cell_type": "code",
      "source": [
        "## místo pro Váš kód\n",
        "from Bio.Seq import Seq\n",
        "from Bio import SeqIO\n",
        "from Bio.SeqRecord import SeqRecord\n",
        "import matplotlib.pyplot as plt\n",
        "import numpy as np\n",
        "import math\n",
        "\n",
        "seq_canis_lupus = SeqIO.read('canis_lupus.fasta', 'fasta').seq\n",
        "seq_bos_taurus = SeqIO.read('bos_taurus.fasta', 'fasta').seq\n",
        "seq_drosophila = SeqIO.read('drosophila.fasta', 'fasta').seq\n",
        "seq_octopus = SeqIO.read('octopus.fasta', 'fasta').seq\n",
        "seq_saccharomyces = SeqIO.read('saccharomyces.fasta', 'fasta').seq\n",
        "seq_troglodytes = SeqIO.read('troglodytes.fasta', 'fasta').seq\n",
        "\n",
        "\n",
        "x_canis_lupus, y_canis_lupus = nt2kvad(seq_canis_lupus)\n",
        "x_bos_taurus, y_bos_taurus = nt2kvad(seq_bos_taurus)\n",
        "x_drosophila, y_drosophila = nt2kvad(seq_drosophila)\n",
        "x_octopus, y_octopus = nt2kvad(seq_octopus)\n",
        "x_saccharomyces, y_saccharomyces = nt2kvad(seq_saccharomyces)\n",
        "x_troglodytes, y_troglodytes = nt2kvad(seq_troglodytes)\n",
        "\n",
        "fig, ax = plt.subplots()\n",
        "\n",
        "ax.plot(x_canis_lupus, y_canis_lupus, label = 'Canis Lupus')\n",
        "ax.plot(x_bos_taurus, y_bos_taurus, label = 'Bos Taurus')\n",
        "ax.plot(x_drosophila, y_drosophila, label = 'Drosophila')\n",
        "ax.plot(x_octopus, y_octopus, label = 'Octopus Vulgaris')\n",
        "ax.plot(x_saccharomyces, y_saccharomyces, label = 'Saccharomyces Cerevisiae')\n",
        "ax.plot(x_troglodytes, y_troglodytes, label = 'Pan Troglodytes')\n",
        "\n",
        "ax.legend()\n",
        "\n",
        "\n",
        "\n"
      ],
      "metadata": {
        "id": "xefIzQSbqCiu",
        "colab": {
          "base_uri": "https://localhost:8080/",
          "height": 282
        },
        "outputId": "248b8677-a24a-4cd6-e7fc-f5a90a65ea92"
      },
      "execution_count": null,
      "outputs": [
        {
          "output_type": "execute_result",
          "data": {
            "text/plain": [
              "<matplotlib.legend.Legend at 0x7f5ab36d9690>"
            ]
          },
          "metadata": {},
          "execution_count": 13
        },
        {
          "output_type": "display_data",
          "data": {
            "text/plain": [
              "<Figure size 432x288 with 1 Axes>"
            ],
            "image/png": "[encoded data removed]"
          },
          "metadata": {
            "needs_background": "light"
          }
        }
      ]
    }
  ]
}